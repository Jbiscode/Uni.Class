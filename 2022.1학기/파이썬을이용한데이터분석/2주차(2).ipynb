{
 "cells": [
  {
   "cell_type": "code",
   "execution_count": 3,
   "metadata": {},
   "outputs": [
    {
     "name": "stdout",
     "output_type": "stream",
     "text": [
      "     fun: 0.5618743160897228\n",
      "     jac: array([-1.0000469 , -0.49663021])\n",
      " message: 'Optimization terminated successfully'\n",
      "    nfev: 41\n",
      "     nit: 11\n",
      "    njev: 11\n",
      "  status: 0\n",
      " success: True\n",
      "       x: array([0.2508314 , 0.49833719])\n"
     ]
    }
   ],
   "source": [
    "import numpy as np\n",
    "from scipy.optimize import minimize, Bounds\n",
    "\n",
    "fun = lambda x: 100*((x[0]-x[1]**2))**2 + (1-x[0])**2\n",
    "\n",
    "cons = {'type':'eq','fun':lambda x: 2*x[0]+x[1]-1}\n",
    "\n",
    "bnd = Bounds(np.array([0,-0.5]), np.array([1,2]))\n",
    "#  x0,x1 각각의 최초 추측값 0,0\n",
    "x0 = np.array([0,0])\n",
    "sol = minimize(fun,x0, bounds=bnd, constraints=cons)\n",
    "print(sol)"
   ]
  },
  {
   "cell_type": "code",
   "execution_count": null,
   "metadata": {},
   "outputs": [],
   "source": []
  }
 ],
 "metadata": {
  "interpreter": {
   "hash": "cef9e06bb236b2a8629b07e87a04b187b952a0f661eff5533360a155783f0c33"
  },
  "kernelspec": {
   "display_name": "Python 3.9.7 ('base')",
   "language": "python",
   "name": "python3"
  },
  "language_info": {
   "codemirror_mode": {
    "name": "ipython",
    "version": 3
   },
   "file_extension": ".py",
   "mimetype": "text/x-python",
   "name": "python",
   "nbconvert_exporter": "python",
   "pygments_lexer": "ipython3",
   "version": "3.9.7"
  },
  "orig_nbformat": 4
 },
 "nbformat": 4,
 "nbformat_minor": 2
}
