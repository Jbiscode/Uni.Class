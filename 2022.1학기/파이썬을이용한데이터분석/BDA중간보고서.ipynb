{
 "cells": [
  {
   "cell_type": "markdown",
   "metadata": {},
   "source": [
    "# 파이썬을활용한 BusinessDataAnalytics 중간보고서"
   ]
  },
  {
   "cell_type": "markdown",
   "metadata": {},
   "source": [
    "# 1-(1)\n",
    "- 주식A의 주가는 70,000원\n",
    "- 수익률표준편차는  연 20%\n",
    "- 기대수익률 연 15%\n",
    "- 향후 150일동안 주가변동을 시뮬레이션 하라."
   ]
  },
  {
   "cell_type": "code",
   "execution_count": null,
   "metadata": {},
   "outputs": [],
   "source": [
    "import numpy as np\n",
    "import matplotlib.pyplot as plt\n",
    "\n",
    "s0 = 70000\n",
    "mu = 0.15\n",
    "sigma = 0.2\n",
    "price_series = []\n",
    "epsilon = np.random.randn(mu,sigma,150)\n",
    "\n",
    "for i in range(150):\n",
    "    \n",
    "    T = 1/365\n",
    "    sT = s0*(np.exp((mu-0.5*sigma**2)*T + sigma*epsilon*np.sqrt(T))).round(2)\n",
    "    price_series.append(sT)\n",
    "\n",
    "epsilon\n",
    "\n",
    "# sim_rets = np.random.normal(mu,sigma,150)\n"
   ]
  },
  {
   "cell_type": "markdown",
   "metadata": {},
   "source": [
    "## 1번 재도전"
   ]
  },
  {
   "cell_type": "code",
   "execution_count": null,
   "metadata": {},
   "outputs": [],
   "source": [
    "import numpy as np\n",
    "import pandas as pd\n",
    "import seaborn as sns\n",
    "import matplotlib.pyplot as plt\n",
    "\n",
    "sT_list1=[70000]\n",
    "sT_list2=[70000]\n",
    "sT_list3=[70000]\n",
    "sT_list4=[70000]\n",
    "sT_list5=[70000]\n",
    "sT_list6=[70000]\n",
    "sT_list7=[70000]\n",
    "sT_list8=[70000]\n",
    "sT_list9=[70000]\n",
    "sT_list10=[70000]\n",
    "\n",
    "# for i in range(1,151):\n",
    "#     sT_list.append(i*2)\n",
    "day_list = []\n",
    "for i in range(0,151):\n",
    "    day_list.append(i)\n",
    "# randn_list = []\n",
    "\n",
    "s0 = 70000\n",
    "\n",
    "for i in range(1,151):\n",
    "    \n",
    "    mu = 0.15\n",
    "    sigma = 0.2\n",
    "    T = 1/365\n",
    "    epsilon = np.random.randn()\n",
    "    sT = s0 * np.exp((mu-0.5*sigma**2)*T + sigma*epsilon*np.sqrt(T))\n",
    "    sT_list1.append(sT)\n",
    "    \n",
    "    s0 = sT\n",
    "    \n",
    "s0 = 70000\n",
    "for i in range(1,151):\n",
    "    \n",
    "    mu = 0.15\n",
    "    sigma = 0.2\n",
    "    T = 1/365\n",
    "    epsilon = np.random.randn()\n",
    "    sT = s0 * np.exp((mu-0.5*sigma**2)*T + sigma*epsilon*np.sqrt(T))\n",
    "    sT_list2.append(sT)\n",
    "    \n",
    "    s0 = sT\n",
    "s0 = 70000\n",
    "for i in range(1,151):\n",
    "    \n",
    "    mu = 0.15\n",
    "    sigma = 0.2\n",
    "    T = 1/365\n",
    "    epsilon = np.random.randn()\n",
    "    sT = s0 * np.exp((mu-0.5*sigma**2)*T + sigma*epsilon*np.sqrt(T))\n",
    "    sT_list3.append(sT)\n",
    "    \n",
    "    s0 = sT\n",
    "s0 = 70000\n",
    "for i in range(1,151):\n",
    "    \n",
    "    mu = 0.15\n",
    "    sigma = 0.2\n",
    "    T = 1/365\n",
    "    epsilon = np.random.randn()\n",
    "    sT = s0 * np.exp((mu-0.5*sigma**2)*T + sigma*epsilon*np.sqrt(T))\n",
    "    sT_list4.append(sT)\n",
    "    \n",
    "    s0 = sT\n",
    "s0 = 70000\n",
    "for i in range(1,151):\n",
    "    \n",
    "    mu = 0.15\n",
    "    sigma = 0.2\n",
    "    T = 1/365\n",
    "    epsilon = np.random.randn()\n",
    "    sT = s0 * np.exp((mu-0.5*sigma**2)*T + sigma*epsilon*np.sqrt(T))\n",
    "    sT_list5.append(sT)\n",
    "    \n",
    "    s0 = sT\n",
    "s0 = 70000\n",
    "for i in range(1,151):\n",
    "    \n",
    "    mu = 0.15\n",
    "    sigma = 0.2\n",
    "    T = 1/365\n",
    "    epsilon = np.random.randn()\n",
    "    sT = s0 * np.exp((mu-0.5*sigma**2)*T + sigma*epsilon*np.sqrt(T))\n",
    "    sT_list6.append(sT)\n",
    "    \n",
    "    s0 = sT\n",
    "s0 = 70000\n",
    "for i in range(1,151):\n",
    "    \n",
    "    mu = 0.15\n",
    "    sigma = 0.2\n",
    "    T = 1/365\n",
    "    epsilon = np.random.randn()\n",
    "    sT = s0 * np.exp((mu-0.5*sigma**2)*T + sigma*epsilon*np.sqrt(T))\n",
    "    sT_list7.append(sT)\n",
    "    \n",
    "    s0 = sT\n",
    "s0 = 70000\n",
    "for i in range(1,151):\n",
    "    \n",
    "    mu = 0.15\n",
    "    sigma = 0.2\n",
    "    T = 1/365\n",
    "    epsilon = np.random.randn()\n",
    "    sT = s0 * np.exp((mu-0.5*sigma**2)*T + sigma*epsilon*np.sqrt(T))\n",
    "    sT_list8.append(sT)\n",
    "    \n",
    "    s0 = sT\n",
    "s0 = 70000\n",
    "for i in range(1,151):\n",
    "    \n",
    "    mu = 0.15\n",
    "    sigma = 0.2\n",
    "    T = 1/365\n",
    "    epsilon = np.random.randn()\n",
    "    sT = s0 * np.exp((mu-0.5*sigma**2)*T + sigma*epsilon*np.sqrt(T))\n",
    "    sT_list9.append(sT)\n",
    "    \n",
    "    s0 = sT\n",
    "s0 = 70000\n",
    "for i in range(1,151):\n",
    "    \n",
    "    mu = 0.15\n",
    "    sigma = 0.2\n",
    "    T = 1/365\n",
    "    epsilon = np.random.randn()\n",
    "    sT = s0 * np.exp((mu-0.5*sigma**2)*T + sigma*epsilon*np.sqrt(T))\n",
    "    sT_list10.append(sT)\n",
    "    \n",
    "    s0 = sT\n",
    "    \n",
    "#     sT_list.append(sT_list)\n",
    "\n",
    "# df = pd.DataFrame()\n",
    "# df['주가']=\n",
    "# print(sT_list)\n",
    "\n",
    "# 리스트들 데이터프레임생성후 인덱스를 DAy로 설정\n",
    "\n",
    "df1 = pd.DataFrame({'Day':day_list,'StockPrice':sT_list1})\n",
    "df1.set_index('Day',inplace=True)\n",
    "df2 = pd.DataFrame({'Day':day_list,'StockPrice':sT_list2})\n",
    "df2.set_index('Day',inplace=True)\n",
    "df3 = pd.DataFrame({'Day':day_list,'StockPrice':sT_list3})\n",
    "df3.set_index('Day',inplace=True)\n",
    "df4 = pd.DataFrame({'Day':day_list,'StockPrice':sT_list4})\n",
    "df4.set_index('Day',inplace=True)\n",
    "df5 = pd.DataFrame({'Day':day_list,'StockPrice':sT_list5})\n",
    "df5.set_index('Day',inplace=True)\n",
    "df6 = pd.DataFrame({'Day':day_list,'StockPrice':sT_list6})\n",
    "df6.set_index('Day',inplace=True)\n",
    "df7 = pd.DataFrame({'Day':day_list,'StockPrice':sT_list7})\n",
    "df7.set_index('Day',inplace=True)\n",
    "df8 = pd.DataFrame({'Day':day_list,'StockPrice':sT_list8})\n",
    "df8.set_index('Day',inplace=True)\n",
    "df9 = pd.DataFrame({'Day':day_list,'StockPrice':sT_list9})\n",
    "df9.set_index('Day',inplace=True)\n",
    "df10 = pd.DataFrame({'Day':day_list,'StockPrice':sT_list10})\n",
    "df10.set_index('Day',inplace=True)\n",
    "\n",
    "\n",
    "df1['StockPrice'].plot()\n",
    "sT_list1\n",
    "\n",
    "fig = plt.figure()\n",
    "ax = fig.add_subplot(1,1,1)\n",
    "ax.plot(df1['StockPrice'])\n",
    "ax.plot(df2['StockPrice'])\n",
    "ax.plot(df3['StockPrice'])\n",
    "ax.plot(df4['StockPrice'])\n",
    "ax.plot(df5['StockPrice'])\n",
    "ax.plot(df6['StockPrice'])\n",
    "ax.plot(df7['StockPrice'])\n",
    "ax.plot(df8['StockPrice'])\n",
    "ax.plot(df9['StockPrice'])\n",
    "ax.plot(df10['StockPrice'])\n"
   ]
  },
  {
   "cell_type": "code",
   "execution_count": null,
   "metadata": {},
   "outputs": [],
   "source": [
    "import numpy as np\n",
    "import pandas as pd\n",
    "import seaborn as sns\n",
    "\n",
    "sT_list=[]\n",
    "day_list = []\n",
    "for i in range(1,151):\n",
    "    sT= 2 **i\n",
    "    sT_list.append(sT)\n",
    "    \n",
    "sT_list"
   ]
  },
  {
   "cell_type": "markdown",
   "metadata": {},
   "source": [
    "# 2번문제"
   ]
  },
  {
   "cell_type": "code",
   "execution_count": null,
   "metadata": {},
   "outputs": [],
   "source": [
    "import numpy as np\n",
    "from scipy.optimize import minimize, Bounds\n",
    "\n",
    "fun =lambda x: 400*x[0] + 500*x[1] + 20*x[2]\n",
    "cons = [{'type':'eq', 'fun':lambda x:x[0] + x[1] + x[2] - 10},\n",
    "        {'type':'ineq','fun':lambda x:10*x[0] + 15*x[1] -70},\n",
    "        {'type':'ineq','fun':lambda x:8*x[0] + 12*x[1] -30},\n",
    "        {'type':'ineq','fun':lambda x:6*x[0] + 2*x[1] -20}]\n",
    "bnd = Bounds(np.array([2,0,0]),np.array([10,10,10]))\n",
    "x0 = np.array([1,1,1])\n",
    "\n",
    "sol = minimize(fun,x0, bounds=bnd, constraints=cons)\n",
    "sol"
   ]
  },
  {
   "cell_type": "code",
   "execution_count": null,
   "metadata": {},
   "outputs": [],
   "source": [
    "import numpy as np\n",
    "from scipy.optimize import minimize, Bounds\n",
    "\n",
    "fun =lambda x: 400*x[0] + 500*x[1] + 20*x[2]\n",
    "cons = [{'type':'eq', 'fun':lambda x:x[0] + x[1] + x[2] - 10},\n",
    "        {'type':'ineq','fun':lambda x:2*x[0] + 3*x[1] -14},\n",
    "        {'type':'ineq','fun':lambda x:4*x[0] + 6*x[1] -15},\n",
    "        {'type':'ineq','fun':lambda x:3*x[0] + x[1] -10}]\n",
    "bnd = ((2,4),(1,4),(1,4))\n",
    "x0 = np.array([1,1,1])\n",
    "\n",
    "sol = minimize(fun,x0, bounds=bnd, constraints=cons)\n",
    "sol"
   ]
  },
  {
   "cell_type": "code",
   "execution_count": null,
   "metadata": {},
   "outputs": [],
   "source": [
    "from pulp import *\n",
    "model = LpProblem(name = \"Make\",sense=LpMinimize)\n",
    "a = LpVariable(name=\"a\", lowBound=2)\n",
    "b = LpVariable(name=\"b\", lowBound=0)\n",
    "c = LpVariable(name=\"c\", lowBound=0)\n",
    "model += a+b+c == 10,\"제약0\"\n",
    "model += a>=2,\"제약1\"\n",
    "model += 10*a + 15*b >= 70,\"제약2\"\n",
    "model += 8*a  + 12*b >= 30,\"제약3\"\n",
    "model += 6*a  + 2*b >= 20,\"제약4\"\n",
    "model += 400*a + 500*b + 20*c\n",
    "model.solve()\n",
    "print('최소 재료비:',model.objective.value(),'원','\\n')\n",
    "for var in model.variables():\n",
    "    print(var.name,':',var.value())"
   ]
  },
  {
   "cell_type": "markdown",
   "metadata": {},
   "source": [
    "# 3번문제"
   ]
  },
  {
   "cell_type": "markdown",
   "metadata": {},
   "source": [
    "## 3-(1)"
   ]
  },
  {
   "cell_type": "code",
   "execution_count": null,
   "metadata": {},
   "outputs": [],
   "source": [
    "import numpy as np\n",
    "import matplotlib.pyplot as plt\n",
    "\n",
    "np.random.seed(0)\n",
    "\n",
    "plt.style.use('default')\n",
    "plt.rcParams['figure.figsize'] = (10, 6)\n",
    "plt.rcParams['font.size'] = 8\n",
    "plt.rcParams['lines.linewidth'] = 1.5\n",
    "\n",
    "mu1, sigma1 = 0, 1.0\n",
    "mu2, sigma2 = 0, 1.5\n",
    "mu3, sigma3 = 0, 2.0\n",
    "\n",
    "x = np.linspace(-10, 10, 1000)\n",
    "y1 = (1 / np.sqrt(2 * np.pi * sigma1**2)) * np.exp(-(x-mu1)**2 / (2 * sigma1**2))\n",
    "y2 = (1 / np.sqrt(2 * np.pi * sigma2**2)) * np.exp(-(x-mu2)**2 / (2 * sigma2**2))\n",
    "y3 = (1 / np.sqrt(2 * np.pi * sigma3**2)) * np.exp(-(x-mu3)**2 / (2 * sigma3**2))\n",
    "\n",
    "plt.plot(x, y1, alpha=0.7 ,label= 'Normal distribution of mean 0, standard deviation 0')\n",
    "plt.plot(x, y2, alpha=0.7 ,label= 'Normal distribution of mean 0, standard deviation 1.5')\n",
    "plt.plot(x, y3, alpha=0.7 ,label= 'Normal distribution of mean 0, standard deviation 2')\n",
    "plt.xlabel('x')\n",
    "plt.ylabel('f(x)')\n",
    "plt.xlim([-10,10])\n",
    "plt.ylim([0,0.5])\n",
    "plt.legend(bbox_to_anchor=(0.45, 1))\n",
    "plt.show()"
   ]
  },
  {
   "cell_type": "markdown",
   "metadata": {},
   "source": [
    "## 3-(2)"
   ]
  },
  {
   "cell_type": "code",
   "execution_count": null,
   "metadata": {},
   "outputs": [],
   "source": [
    "import numpy as np\n",
    "import matplotlib.pyplot as plt\n",
    "\n",
    "np.random.seed(0)\n",
    "\n",
    "plt.style.use('default')\n",
    "plt.rcParams['figure.figsize'] = (10, 6)\n",
    "plt.rcParams['font.size'] = 8\n",
    "plt.rcParams['lines.linewidth'] = 1.5\n",
    "\n",
    "mu1, sigma1 = 0, 1.0\n",
    "mu2, sigma2 = 1, 1.5\n",
    "mu3, sigma3 = 2, 2.0\n",
    "\n",
    "x = np.linspace(-10, 10, 1000)\n",
    "y1 = (1 / np.sqrt(2 * np.pi * sigma1**2)) * np.exp(-(x-mu1)**2 / (2 * sigma1**2))\n",
    "y2 = (1 / np.sqrt(2 * np.pi * sigma2**2)) * np.exp(-(x-mu2)**2 / (2 * sigma2**2))\n",
    "y3 = (1 / np.sqrt(2 * np.pi * sigma3**2)) * np.exp(-(x-mu3)**2 / (2 * sigma3**2))\n",
    "\n",
    "plt.plot(x, y1, alpha=0.7 ,label= 'Normal distribution of mean 0, standard deviation 0')\n",
    "plt.plot(x, y2, alpha=0.7 ,label= 'Normal distribution of mean 1, standard deviation 1.5')\n",
    "plt.plot(x, y3, alpha=0.7 ,label= 'Normal distribution of mean 2, standard deviation 2')\n",
    "plt.xlabel('x')\n",
    "plt.ylabel('f(x)')\n",
    "plt.xlim([-10,10])\n",
    "plt.ylim([0,0.5])\n",
    "plt.legend(bbox_to_anchor=(0.45, 1))\n",
    "plt.show()"
   ]
  },
  {
   "cell_type": "markdown",
   "metadata": {},
   "source": [
    "# 4번문제"
   ]
  },
  {
   "cell_type": "code",
   "execution_count": 22,
   "metadata": {},
   "outputs": [
    {
     "name": "stdout",
     "output_type": "stream",
     "text": [
      "47.71\n"
     ]
    }
   ],
   "source": [
    "import numpy as np\n",
    "# S:현재주가  X:행사가격  sigma:주가변동성  r:무위험수익률 T:옵션잔존만기\n",
    "S,X,sigma,r,T = 1000,1000,0.3,0.02,1\n",
    "knockout_down = 800 \n",
    "knockout_up = 1200\n",
    "\n",
    "M = 1000000\n",
    "payoff_list = np.zeros(M)\n",
    "\n",
    "for i in range(0,M):\n",
    "    epsilon = np.random.randn()\n",
    "    sT = S*np.exp((r-0.5*sigma**2)*T + sigma*epsilon*np.sqrt(T))\n",
    "    if sT <= knockout_down:\n",
    "        payoff = 0\n",
    "    elif knockout_down < sT <= X:\n",
    "        payoff = X - sT\n",
    "    elif X<sT<knockout_up:\n",
    "        payoff = sT - X\n",
    "    else:\n",
    "        payoff = 0\n",
    "    payoff_list[i] = payoff\n",
    "    \n",
    "payoff_average = np.mean(payoff_list)\n",
    "Barrier_straddle_price = payoff_average/((1+r)**T)\n",
    "print(format(Barrier_straddle_price,',.2f'))"
   ]
  },
  {
   "cell_type": "code",
   "execution_count": 10,
   "metadata": {},
   "outputs": [
    {
     "data": {
      "text/plain": [
       "array([101., 109.,   0.])"
      ]
     },
     "execution_count": 10,
     "metadata": {},
     "output_type": "execute_result"
    }
   ],
   "source": [
    "import numpy as np\n",
    "\n",
    "b= np.max([100,101])\n",
    "c= np.max([109,101])\n",
    "\n",
    "pay = np.zeros(3)\n",
    "pay[0] = b\n",
    "pay[1] = c\n",
    "pay"
   ]
  },
  {
   "cell_type": "markdown",
   "metadata": {},
   "source": [
    "# 5번 문제"
   ]
  },
  {
   "cell_type": "markdown",
   "metadata": {},
   "source": [
    "## 5-(1)"
   ]
  },
  {
   "cell_type": "code",
   "execution_count": null,
   "metadata": {},
   "outputs": [],
   "source": [
    "import pandas as pd\n",
    "import matplotlib.pyplot as plt\n",
    "from matplotlib.ticker import MultipleLocator, IndexLocator, FuncFormatter\n",
    "\n",
    "df = pd.read_excel(\"C:/대학수업/2022.1학기/파이썬을이용한데이터분석/data/Onlineretail_France.xlsx\")\n",
    "df['InvoiceDate'] = pd.to_datetime(df['InvoiceDate'])\n",
    "df['TotalRevenue'] = df['Quantity'] * df['UnitPrice']\n",
    "df.set_index('InvoiceDate',inplace=True)\n",
    "df_1 = df.resample(\"D\")[\"TotalRevenue\"].sum().round(0)\n",
    "\n",
    "\n",
    "\n",
    "fig = plt.figure(figsize=(12,8))\n",
    "ax = fig.add_subplot()\n",
    "\n",
    "ax.xaxis.set_major_locator(MultipleLocator(33))\n",
    "ax.xaxis.set_minor_locator(MultipleLocator(7)) \n",
    "\n",
    "\n",
    "plt.xlabel(\"invoiceDate\")\n",
    "plt.title(\"Daily total revenue\")\n",
    "\n",
    "plt.plot(df_1)"
   ]
  },
  {
   "cell_type": "code",
   "execution_count": null,
   "metadata": {},
   "outputs": [],
   "source": [
    "import pandas as pd\n",
    "import matplotlib.pyplot as plt\n",
    "\n",
    "\n",
    "df = pd.read_excel(\"C:/대학수업/2022.1학기/파이썬을이용한데이터분석/data/Onlineretail_France.xlsx\")\n",
    "df['InvoiceDate'] = pd.to_datetime(df['InvoiceDate'])\n",
    "df['TotalRevenue'] = df['Quantity'] * df['UnitPrice']\n",
    "df.set_index('InvoiceDate',inplace=True)\n",
    "\n",
    "new_df=pd.DataFrame()\n",
    "new_df['DailyTotalRevenue'] = df.resample(\"D\")[\"TotalRevenue\"].sum().round(0)\n",
    "\n",
    "\n",
    "\n",
    "new_df['DailyTotalRevenue'].plot(title='Daily total revenue')\n",
    "new_df['DailyTotalRevenue']"
   ]
  },
  {
   "cell_type": "markdown",
   "metadata": {},
   "source": [
    "## 5-(2)"
   ]
  },
  {
   "cell_type": "code",
   "execution_count": null,
   "metadata": {},
   "outputs": [],
   "source": [
    "import pandas as pd\n",
    "import matplotlib.pyplot as plt\n",
    "from matplotlib.ticker import MultipleLocator, IndexLocator, FuncFormatter\n",
    "\n",
    "\n",
    "df = pd.read_excel(\"C:/대학수업/2022.1학기/파이썬을이용한데이터분석/data/Onlineretail_France.xlsx\")\n",
    "df['InvoiceDate'] = pd.to_datetime(df['InvoiceDate'])\n",
    "df['TotalRevenue'] = df['Quantity'] * df['UnitPrice']\n",
    "df.set_index('InvoiceDate',inplace=True)\n",
    "df_1 = df.resample(\"M\")[\"TotalRevenue\"].sum().round(0)\n",
    "\n",
    "\n",
    "plt.xlabel(\"invoiceDate\")\n",
    "plt.title(\"Monthly total revenue\")\n",
    "\n",
    "plt.plot(df_1)"
   ]
  },
  {
   "cell_type": "code",
   "execution_count": null,
   "metadata": {},
   "outputs": [],
   "source": [
    "import pandas as pd\n",
    "import matplotlib.pyplot as plt\n",
    "\n",
    "\n",
    "df = pd.read_excel(\"C:/대학수업/2022.1학기/파이썬을이용한데이터분석/data/Onlineretail_France.xlsx\")\n",
    "df['InvoiceDate'] = pd.to_datetime(df['InvoiceDate'])\n",
    "df['TotalRevenue'] = df['Quantity'] * df['UnitPrice']\n",
    "df.set_index('InvoiceDate',inplace=True)\n",
    "\n",
    "\n",
    "new_df=pd.DataFrame()\n",
    "\n",
    "new_df['MonthlyTotalRevenue'] = df.resample(\"M\")[\"TotalRevenue\"].sum().round(0)\n",
    "\n",
    "\n",
    "\n",
    "new_df['MonthlyTotalRevenue'].plot(title='Monthly total revenue')"
   ]
  },
  {
   "cell_type": "markdown",
   "metadata": {},
   "source": [
    "## 5-(3)"
   ]
  },
  {
   "cell_type": "code",
   "execution_count": null,
   "metadata": {},
   "outputs": [],
   "source": [
    "import pandas as pd\n",
    "import matplotlib.pyplot as plt\n",
    "\n",
    "df = pd.read_excel(\"C:/대학수업/2022.1학기/파이썬을이용한데이터분석/data/Onlineretail_France.xlsx\")\n",
    "# df['InvoiceDate'] = pd.to_datetime(df['InvoiceDate'])\n",
    "df['TotalRevenue'] = df['Quantity'] * df['UnitPrice']\n",
    "df.dropna(axis=0,inplace=True)\n",
    "df.set_index('InvoiceDate',inplace=True)\n",
    "\n",
    "new_df = pd.DataFrame()\n",
    "new_df['DailyTotalRevenue']= df.resample(\"D\")[\"TotalRevenue\"].sum().round(0)\n",
    "\n",
    "new_df['Revenue_MA']=new_df['DailyTotalRevenue'].rolling(20).mean()\n",
    "new_df.dropna(axis=0,inplace=True)\n",
    "new_df['Revenue_MA'].plot(title='20 day moving average of daily total revenue')\n",
    "\n",
    "\n"
   ]
  },
  {
   "cell_type": "markdown",
   "metadata": {},
   "source": [
    "# 6번 문제"
   ]
  },
  {
   "cell_type": "code",
   "execution_count": null,
   "metadata": {},
   "outputs": [],
   "source": [
    "import pandas as pd\n",
    "import numpy as np\n",
    "from scipy.optimize import minimize, Bounds\n",
    "\n",
    "H = np.array([[0.1,0,0,0],\n",
    "              [0,0.2,0,0],\n",
    "              [0,0,0.3,0],\n",
    "              [0,0,0,0.5]])\n",
    "\n",
    "dim = len(H)\n",
    "var = lambda x : np.dot(np.dot(x,H),x)\n",
    "cons = {'type':'eq','fun':lambda x : np.sum(x)-1}\n",
    "limits = Bounds(np.zeros(dim),np.ones(dim))\n",
    "x0 = np.ones(dim)*(1/dim)\n",
    "result = minimize(var,x0,constraints = cons,bounds=limits)\n",
    "result\n",
    "\n"
   ]
  },
  {
   "cell_type": "code",
   "execution_count": null,
   "metadata": {},
   "outputs": [],
   "source": [
    "c = np.zeros(4)\n",
    "c\n",
    "d=np.ones(4)\n",
    "d"
   ]
  },
  {
   "cell_type": "markdown",
   "metadata": {},
   "source": []
  }
 ],
 "metadata": {
  "interpreter": {
   "hash": "cef9e06bb236b2a8629b07e87a04b187b952a0f661eff5533360a155783f0c33"
  },
  "kernelspec": {
   "display_name": "Python 3.9.7 ('base')",
   "language": "python",
   "name": "python3"
  },
  "language_info": {
   "codemirror_mode": {
    "name": "ipython",
    "version": 3
   },
   "file_extension": ".py",
   "mimetype": "text/x-python",
   "name": "python",
   "nbconvert_exporter": "python",
   "pygments_lexer": "ipython3",
   "version": "3.9.7"
  },
  "orig_nbformat": 4
 },
 "nbformat": 4,
 "nbformat_minor": 2
}
