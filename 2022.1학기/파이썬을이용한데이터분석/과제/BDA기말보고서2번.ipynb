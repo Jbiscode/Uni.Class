{
 "cells": [
  {
   "cell_type": "code",
   "execution_count": 2,
   "metadata": {},
   "outputs": [
    {
     "data": {
      "text/plain": [
       "0      3\n",
       "1      3\n",
       "2      2\n",
       "3      1\n",
       "4      3\n",
       "      ..\n",
       "845    1\n",
       "846    1\n",
       "847    1\n",
       "848    2\n",
       "849    4\n",
       "Name: 나이, Length: 850, dtype: category\n",
       "Categories (4, object): ['1' < '2' < '3' < '4']"
      ]
     },
     "execution_count": 2,
     "metadata": {},
     "output_type": "execute_result"
    }
   ],
   "source": [
    "import pandas as pd\n",
    "import matplotlib.pyplot as plt\n",
    "from matplotlib import font_manager,rc\n",
    "font_name = font_manager.FontProperties(fname=\"c:/Windows/Fonts/batang.ttc\").get_name()\n",
    "rc('font',family=font_name)\n",
    "\n",
    "df = pd.read_excel('C:/대학수업/2022.1학기/파이썬을이용한데이터분석/data/clients.xlsx')\n",
    "\n",
    "df['나이'] = pd.cut(df['Age'],bins=4,labels=['1','2','3','4'])\n",
    "df['나이']"
   ]
  },
  {
   "cell_type": "code",
   "execution_count": null,
   "metadata": {},
   "outputs": [],
   "source": []
  }
 ],
 "metadata": {
  "kernelspec": {
   "display_name": "Python 3.9.7 ('base')",
   "language": "python",
   "name": "python3"
  },
  "language_info": {
   "codemirror_mode": {
    "name": "ipython",
    "version": 3
   },
   "file_extension": ".py",
   "mimetype": "text/x-python",
   "name": "python",
   "nbconvert_exporter": "python",
   "pygments_lexer": "ipython3",
   "version": "3.9.7"
  },
  "orig_nbformat": 4,
  "vscode": {
   "interpreter": {
    "hash": "ff4f85d6e04298634172ac5d8264e7e9b556b95639fe52ebb9425c4d4cba0c9c"
   }
  }
 },
 "nbformat": 4,
 "nbformat_minor": 2
}
