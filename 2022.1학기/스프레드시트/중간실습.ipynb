{
 "cells": [
  {
   "cell_type": "code",
   "execution_count": null,
   "metadata": {},
   "outputs": [],
   "source": [
    "import pandas as pd\n",
    "df = pd.read_excel(\"C:/대학수업/2022.1학기/스프레드시트/중간데이터/onlinedelivery.xlsx\")\n",
    "df"
   ]
  },
  {
   "cell_type": "code",
   "execution_count": null,
   "metadata": {},
   "outputs": [],
   "source": [
    "variables = ['Foodquality','Taste','Quantity']\n",
    "nums = []\n",
    "for var in variables:\n",
    "    num = df[var].value_counts()\n",
    "    nums.append(num)\n",
    "data = pd.DataFrame(nums)\n",
    "nums\n",
    "\n"
   ]
  },
  {
   "cell_type": "code",
   "execution_count": null,
   "metadata": {},
   "outputs": [],
   "source": [
    "import pandas as pd\n",
    "df = pd.read_excel('C:/대학수업/2022.1학기/스프레드시트/중간데이터/customer.xlsx')\n",
    "df['birthyear'] = df['birthdate'].dt.year\n",
    "df['jointime'] = df['customer_since'].dt.to_period('M')\n",
    "# df['jointime'].astype(str)\n",
    "\n",
    "df.drop(['customer_since','birthdate'],axis=1,inplace=True)\n",
    "df['jointime'][1]\n"
   ]
  },
  {
   "cell_type": "code",
   "execution_count": null,
   "metadata": {},
   "outputs": [],
   "source": [
    "import pandas as pd\n",
    "df = pd.read_excel('C:/대학수업/2022.1학기/스프레드시트/중간데이터/customer.xlsx')\n",
    "df['birthyear'] = df['birthdate'].dt.year\n",
    "df['jointime'] = df['customer_since'].dt.to_period('M')\n",
    "df['jointime2']=df['customer_since'].dt.year\n",
    "df['jointime3']=df['customer_since'].dt.month\n",
    "df = df.query('birthyear>1995 & jointime2 ==2017 & jointime3 == 1')\n",
    "df.drop(['jointime2','jointime3'],axis=1,inplace=True)\n",
    "df"
   ]
  },
  {
   "cell_type": "code",
   "execution_count": null,
   "metadata": {},
   "outputs": [],
   "source": [
    "df['customer_id']=df['customer_id'].astype(str)\n",
    "df['customer_id']=df['customer_id'].str[-2:]\n",
    "df['customer_first_name']=df['customer_first_name'].str[0:3]\n",
    "df"
   ]
  },
  {
   "cell_type": "code",
   "execution_count": null,
   "metadata": {},
   "outputs": [],
   "source": []
  },
  {
   "cell_type": "markdown",
   "metadata": {},
   "source": [
    "# 3 번"
   ]
  },
  {
   "cell_type": "code",
   "execution_count": null,
   "metadata": {},
   "outputs": [],
   "source": [
    "import pandas as pd\n",
    "df =pd.read_excel('C:/대학수업/2022.1학기/스프레드시트/중간데이터/staff.xlsx')\n",
    "df"
   ]
  },
  {
   "cell_type": "code",
   "execution_count": null,
   "metadata": {},
   "outputs": [],
   "source": [
    "df['채용연도'] = df['채용일자'].str[-4:]\n",
    "df['채용연도'] = df['채용연도'].astype(int)\n",
    "df['근무기간(년)']=2021-df['채용연도']\n",
    "df['채용일자'].dtype"
   ]
  },
  {
   "cell_type": "code",
   "execution_count": null,
   "metadata": {},
   "outputs": [],
   "source": [
    "names=['Aline Melanie','Joelle Christen','Tatum Laurel','Pandora Neville','Desiree Anika']\n",
    "df1= pd.DataFrame()\n",
    "df1['성명'] =df1.append(names)\n",
    "data = pd.concat([df,df1],axis=1)\n",
    "\n",
    "data"
   ]
  },
  {
   "cell_type": "code",
   "execution_count": null,
   "metadata": {},
   "outputs": [],
   "source": [
    "data1=data.sort_values(by='근무기간(년)',ascending=False,axis=0,ignore_index=True)\n",
    "data1\n"
   ]
  },
  {
   "cell_type": "code",
   "execution_count": null,
   "metadata": {},
   "outputs": [],
   "source": [
    "data"
   ]
  },
  {
   "cell_type": "code",
   "execution_count": 4,
   "metadata": {},
   "outputs": [
    {
     "data": {
      "text/html": [
       "<div>\n",
       "<style scoped>\n",
       "    .dataframe tbody tr th:only-of-type {\n",
       "        vertical-align: middle;\n",
       "    }\n",
       "\n",
       "    .dataframe tbody tr th {\n",
       "        vertical-align: top;\n",
       "    }\n",
       "\n",
       "    .dataframe thead th {\n",
       "        text-align: right;\n",
       "    }\n",
       "</style>\n",
       "<table border=\"1\" class=\"dataframe\">\n",
       "  <thead>\n",
       "    <tr style=\"text-align: right;\">\n",
       "      <th></th>\n",
       "      <th>채용일자</th>\n",
       "      <th>근무기간(년)</th>\n",
       "      <th>성명</th>\n",
       "    </tr>\n",
       "    <tr>\n",
       "      <th>채용연도</th>\n",
       "      <th></th>\n",
       "      <th></th>\n",
       "      <th></th>\n",
       "    </tr>\n",
       "  </thead>\n",
       "  <tbody>\n",
       "    <tr>\n",
       "      <th>2008</th>\n",
       "      <td>16/5/2008</td>\n",
       "      <td>13</td>\n",
       "      <td>Desiree Anika</td>\n",
       "    </tr>\n",
       "    <tr>\n",
       "      <th>2013</th>\n",
       "      <td>11/11/2013</td>\n",
       "      <td>8</td>\n",
       "      <td>Joelle Christen</td>\n",
       "    </tr>\n",
       "    <tr>\n",
       "      <th>2015</th>\n",
       "      <td>31/1/2015</td>\n",
       "      <td>6</td>\n",
       "      <td>Tatum Laurel</td>\n",
       "    </tr>\n",
       "    <tr>\n",
       "      <th>2017</th>\n",
       "      <td>14/3/2017</td>\n",
       "      <td>4</td>\n",
       "      <td>Aline Melanie</td>\n",
       "    </tr>\n",
       "    <tr>\n",
       "      <th>2019</th>\n",
       "      <td>21/3/2019</td>\n",
       "      <td>2</td>\n",
       "      <td>Pandora Neville</td>\n",
       "    </tr>\n",
       "  </tbody>\n",
       "</table>\n",
       "</div>"
      ],
      "text/plain": [
       "            채용일자  근무기간(년)               성명\n",
       "채용연도                                      \n",
       "2008   16/5/2008       13    Desiree Anika\n",
       "2013  11/11/2013        8  Joelle Christen\n",
       "2015   31/1/2015        6     Tatum Laurel\n",
       "2017   14/3/2017        4    Aline Melanie\n",
       "2019   21/3/2019        2  Pandora Neville"
      ]
     },
     "execution_count": 4,
     "metadata": {},
     "output_type": "execute_result"
    }
   ],
   "source": [
    "import pandas as pd\n",
    "df =pd.read_excel('C:/대학수업/2022.1학기/스프레드시트/중간데이터/staff.xlsx')\n",
    "\n",
    "df['채용연도'] = df['채용일자'].str[-4:]\n",
    "df['채용연도'] = df['채용연도'].astype(int)\n",
    "df['근무기간(년)']=2021-df['채용연도']\n",
    "df\n",
    "\n",
    "names=['Aline Melanie','Joelle Christen','Tatum Laurel','Pandora Neville','Desiree Anika']\n",
    "df1= pd.DataFrame()\n",
    "df1['성명'] =df1.append(names)\n",
    "data = pd.concat([df,df1],axis=1)\n",
    "\n",
    "data.sort_values(by='채용연도',ascending=True,axis=0,inplace=True)\n",
    "data.set_index('채용연도',inplace=True)\n",
    "data.drop('이름',axis=1,inplace=True)\n",
    "data.drop('성',axis=1,inplace=True)\n",
    "# data['채용일자'] = data['채용일자'].replace\n",
    "\n",
    "data"
   ]
  },
  {
   "cell_type": "code",
   "execution_count": 2,
   "metadata": {},
   "outputs": [
    {
     "data": {
      "text/html": [
       "<div>\n",
       "<style scoped>\n",
       "    .dataframe tbody tr th:only-of-type {\n",
       "        vertical-align: middle;\n",
       "    }\n",
       "\n",
       "    .dataframe tbody tr th {\n",
       "        vertical-align: top;\n",
       "    }\n",
       "\n",
       "    .dataframe thead th {\n",
       "        text-align: right;\n",
       "    }\n",
       "</style>\n",
       "<table border=\"1\" class=\"dataframe\">\n",
       "  <thead>\n",
       "    <tr style=\"text-align: right;\">\n",
       "      <th></th>\n",
       "      <th>채용일자</th>\n",
       "      <th>근무기간(년)</th>\n",
       "      <th>성명</th>\n",
       "    </tr>\n",
       "    <tr>\n",
       "      <th>채용연도</th>\n",
       "      <th></th>\n",
       "      <th></th>\n",
       "      <th></th>\n",
       "    </tr>\n",
       "  </thead>\n",
       "  <tbody>\n",
       "    <tr>\n",
       "      <th>2008</th>\n",
       "      <td>16/5</td>\n",
       "      <td>13</td>\n",
       "      <td>Desiree Anika</td>\n",
       "    </tr>\n",
       "    <tr>\n",
       "      <th>2013</th>\n",
       "      <td>11/11</td>\n",
       "      <td>8</td>\n",
       "      <td>Joelle Christen</td>\n",
       "    </tr>\n",
       "    <tr>\n",
       "      <th>2015</th>\n",
       "      <td>31/1</td>\n",
       "      <td>6</td>\n",
       "      <td>Tatum Laurel</td>\n",
       "    </tr>\n",
       "    <tr>\n",
       "      <th>2017</th>\n",
       "      <td>14/3</td>\n",
       "      <td>4</td>\n",
       "      <td>Aline Melanie</td>\n",
       "    </tr>\n",
       "    <tr>\n",
       "      <th>2019</th>\n",
       "      <td>21/3</td>\n",
       "      <td>2</td>\n",
       "      <td>Pandora Neville</td>\n",
       "    </tr>\n",
       "  </tbody>\n",
       "</table>\n",
       "</div>"
      ],
      "text/plain": [
       "       채용일자  근무기간(년)               성명\n",
       "채용연도                                 \n",
       "2008   16/5       13    Desiree Anika\n",
       "2013  11/11        8  Joelle Christen\n",
       "2015   31/1        6     Tatum Laurel\n",
       "2017   14/3        4    Aline Melanie\n",
       "2019   21/3        2  Pandora Neville"
      ]
     },
     "execution_count": 2,
     "metadata": {},
     "output_type": "execute_result"
    }
   ],
   "source": [
    "data['채용일자']=data['채용일자'].str[:-5]\n",
    "data\n"
   ]
  },
  {
   "cell_type": "code",
   "execution_count": null,
   "metadata": {},
   "outputs": [],
   "source": []
  }
 ],
 "metadata": {
  "interpreter": {
   "hash": "cef9e06bb236b2a8629b07e87a04b187b952a0f661eff5533360a155783f0c33"
  },
  "kernelspec": {
   "display_name": "Python 3.9.7 ('base')",
   "language": "python",
   "name": "python3"
  },
  "language_info": {
   "codemirror_mode": {
    "name": "ipython",
    "version": 3
   },
   "file_extension": ".py",
   "mimetype": "text/x-python",
   "name": "python",
   "nbconvert_exporter": "python",
   "pygments_lexer": "ipython3",
   "version": "3.9.7"
  },
  "orig_nbformat": 4
 },
 "nbformat": 4,
 "nbformat_minor": 2
}
