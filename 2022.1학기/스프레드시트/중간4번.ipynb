{
 "cells": [
  {
   "cell_type": "code",
   "execution_count": 2,
   "metadata": {},
   "outputs": [
    {
     "data": {
      "text/html": [
       "<div>\n",
       "<style scoped>\n",
       "    .dataframe tbody tr th:only-of-type {\n",
       "        vertical-align: middle;\n",
       "    }\n",
       "\n",
       "    .dataframe tbody tr th {\n",
       "        vertical-align: top;\n",
       "    }\n",
       "\n",
       "    .dataframe thead th {\n",
       "        text-align: right;\n",
       "    }\n",
       "</style>\n",
       "<table border=\"1\" class=\"dataframe\">\n",
       "  <thead>\n",
       "    <tr style=\"text-align: right;\">\n",
       "      <th></th>\n",
       "      <th>ID</th>\n",
       "      <th>신용점수</th>\n",
       "      <th>성별</th>\n",
       "      <th>예금잔액</th>\n",
       "      <th>신용도</th>\n",
       "    </tr>\n",
       "  </thead>\n",
       "  <tbody>\n",
       "    <tr>\n",
       "      <th>0</th>\n",
       "      <td>15634602</td>\n",
       "      <td>619</td>\n",
       "      <td>Female</td>\n",
       "      <td>0.0</td>\n",
       "      <td>중신용자</td>\n",
       "    </tr>\n",
       "    <tr>\n",
       "      <th>1</th>\n",
       "      <td>15647311</td>\n",
       "      <td>608</td>\n",
       "      <td>Female</td>\n",
       "      <td>8380786.0</td>\n",
       "      <td>중신용자</td>\n",
       "    </tr>\n",
       "    <tr>\n",
       "      <th>2</th>\n",
       "      <td>15619304</td>\n",
       "      <td>502</td>\n",
       "      <td>Female</td>\n",
       "      <td>15966080.0</td>\n",
       "      <td>저신용자</td>\n",
       "    </tr>\n",
       "    <tr>\n",
       "      <th>3</th>\n",
       "      <td>15701354</td>\n",
       "      <td>699</td>\n",
       "      <td>Female</td>\n",
       "      <td>0.0</td>\n",
       "      <td>중신용자</td>\n",
       "    </tr>\n",
       "    <tr>\n",
       "      <th>4</th>\n",
       "      <td>15737888</td>\n",
       "      <td>850</td>\n",
       "      <td>Female</td>\n",
       "      <td>12551082.0</td>\n",
       "      <td>고신용자</td>\n",
       "    </tr>\n",
       "  </tbody>\n",
       "</table>\n",
       "</div>"
      ],
      "text/plain": [
       "         ID  신용점수      성별        예금잔액   신용도\n",
       "0  15634602   619  Female         0.0  중신용자\n",
       "1  15647311   608  Female   8380786.0  중신용자\n",
       "2  15619304   502  Female  15966080.0  저신용자\n",
       "3  15701354   699  Female         0.0  중신용자\n",
       "4  15737888   850  Female  12551082.0  고신용자"
      ]
     },
     "execution_count": 2,
     "metadata": {},
     "output_type": "execute_result"
    }
   ],
   "source": [
    "import pandas as pd\n",
    "df = pd.read_excel('C:/대학수업/2022.1학기/스프레드시트/중간데이터/Bank.xlsx')\n",
    "def credit_level(x):\n",
    "    if x<= 600:\n",
    "        credit = '저신용자'\n",
    "    elif x<=800:\n",
    "        credit = '중신용자'\n",
    "    elif x>800:\n",
    "        credit = '고신용자'\n",
    "    return credit\n",
    "df['신용도']=df['신용점수'].apply(credit_level)\n",
    "df.head()"
   ]
  },
  {
   "cell_type": "code",
   "execution_count": 4,
   "metadata": {},
   "outputs": [
    {
     "data": {
      "text/html": [
       "<div>\n",
       "<style scoped>\n",
       "    .dataframe tbody tr th:only-of-type {\n",
       "        vertical-align: middle;\n",
       "    }\n",
       "\n",
       "    .dataframe tbody tr th {\n",
       "        vertical-align: top;\n",
       "    }\n",
       "\n",
       "    .dataframe thead th {\n",
       "        text-align: right;\n",
       "    }\n",
       "</style>\n",
       "<table border=\"1\" class=\"dataframe\">\n",
       "  <thead>\n",
       "    <tr style=\"text-align: right;\">\n",
       "      <th></th>\n",
       "      <th>ID</th>\n",
       "      <th>신용점수</th>\n",
       "      <th>성별</th>\n",
       "      <th>예금잔액</th>\n",
       "      <th>신용도</th>\n",
       "    </tr>\n",
       "  </thead>\n",
       "  <tbody>\n",
       "    <tr>\n",
       "      <th>2092</th>\n",
       "      <td>15757408</td>\n",
       "      <td>655</td>\n",
       "      <td>Male</td>\n",
       "      <td>25089809.0</td>\n",
       "      <td>중신용자</td>\n",
       "    </tr>\n",
       "    <tr>\n",
       "      <th>3280</th>\n",
       "      <td>15715622</td>\n",
       "      <td>583</td>\n",
       "      <td>Female</td>\n",
       "      <td>23838756.0</td>\n",
       "      <td>저신용자</td>\n",
       "    </tr>\n",
       "    <tr>\n",
       "      <th>8733</th>\n",
       "      <td>15714241</td>\n",
       "      <td>749</td>\n",
       "      <td>Male</td>\n",
       "      <td>22226763.0</td>\n",
       "      <td>중신용자</td>\n",
       "    </tr>\n",
       "    <tr>\n",
       "      <th>3588</th>\n",
       "      <td>15571958</td>\n",
       "      <td>489</td>\n",
       "      <td>Male</td>\n",
       "      <td>22153280.0</td>\n",
       "      <td>저신용자</td>\n",
       "    </tr>\n",
       "    <tr>\n",
       "      <th>6717</th>\n",
       "      <td>15586674</td>\n",
       "      <td>663</td>\n",
       "      <td>Female</td>\n",
       "      <td>21610988.0</td>\n",
       "      <td>중신용자</td>\n",
       "    </tr>\n",
       "  </tbody>\n",
       "</table>\n",
       "</div>"
      ],
      "text/plain": [
       "            ID  신용점수      성별        예금잔액   신용도\n",
       "2092  15757408   655    Male  25089809.0  중신용자\n",
       "3280  15715622   583  Female  23838756.0  저신용자\n",
       "8733  15714241   749    Male  22226763.0  중신용자\n",
       "3588  15571958   489    Male  22153280.0  저신용자\n",
       "6717  15586674   663  Female  21610988.0  중신용자"
      ]
     },
     "execution_count": 4,
     "metadata": {},
     "output_type": "execute_result"
    }
   ],
   "source": [
    "df.sort_values(by='예금잔액',axis=0,ascending=False,inplace=True)\n",
    "df.head()"
   ]
  },
  {
   "cell_type": "code",
   "execution_count": 17,
   "metadata": {},
   "outputs": [
    {
     "data": {
      "text/plain": [
       "중신용자    3416\n",
       "저신용자    1684\n",
       "고신용자     357\n",
       "Name: 신용도, dtype: int64"
      ]
     },
     "execution_count": 17,
     "metadata": {},
     "output_type": "execute_result"
    }
   ],
   "source": [
    "data = df.query(\"성별 =='Male'\")\n",
    "data['신용도'].value_counts()"
   ]
  },
  {
   "cell_type": "code",
   "execution_count": null,
   "metadata": {},
   "outputs": [],
   "source": []
  }
 ],
 "metadata": {
  "interpreter": {
   "hash": "cef9e06bb236b2a8629b07e87a04b187b952a0f661eff5533360a155783f0c33"
  },
  "kernelspec": {
   "display_name": "Python 3.9.7 ('base')",
   "language": "python",
   "name": "python3"
  },
  "language_info": {
   "codemirror_mode": {
    "name": "ipython",
    "version": 3
   },
   "file_extension": ".py",
   "mimetype": "text/x-python",
   "name": "python",
   "nbconvert_exporter": "python",
   "pygments_lexer": "ipython3",
   "version": "3.9.7"
  },
  "orig_nbformat": 4
 },
 "nbformat": 4,
 "nbformat_minor": 2
}
